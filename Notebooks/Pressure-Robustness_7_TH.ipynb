{
 "cells": [
  {
   "cell_type": "markdown",
   "metadata": {},
   "source": [
    "# Exact solution\n",
    "\n",
    "Ethier C.R., Steinman D.A., Exact fully 3d Navier-Stokes solutions for banchmarking\n",
    "\n",
    "Reference implementation with Taylor-Hood elements of degree 2/1"
   ]
  },
  {
   "cell_type": "code",
   "execution_count": 1,
   "metadata": {},
   "outputs": [],
   "source": [
    "from dolfin import *\n",
    "import numpy as np\n",
    "import mshr as mshr\n",
    "\n",
    "# Should stay 1 here (as we used normalized equation)\n",
    "mu = Constant(1.)\n",
    "muv = mu.values()[0]\n",
    "\n",
    "\n",
    "baseR = 1.\n",
    "topR = 1.5\n",
    "h = 2.\n",
    "\n",
    "outerCyl = mshr.Cylinder(Point([0.,0.,0.]),Point([0.,0.,h]),baseR,topR)\n",
    "mesh=mshr.generate_mesh(outerCyl,15)"
   ]
  },
  {
   "cell_type": "code",
   "execution_count": 2,
   "metadata": {},
   "outputs": [],
   "source": [
    "# We mark physical boundary and setup the space of finite elements \n",
    "mark = {\"generic\": 0,\n",
    "        \"wall\": 1}\n",
    "\n",
    "class Bondary_w(SubDomain):\n",
    "    def inside(self, x, on_boundary):\n",
    "        return on_boundary \n",
    "\n",
    "wall = Bondary_w()\n",
    "\n",
    "#File(\"bord.pvd\") << subdomains\n",
    "\n",
    "degree = 2\n",
    "P2 = VectorElement(\"P\", mesh.ufl_cell(), degree)\n",
    "P1 = FiniteElement(\"P\", mesh.ufl_cell(), degree-1)\n",
    "TH = MixedElement([P2, P1])\n"
   ]
  },
  {
   "cell_type": "code",
   "execution_count": 3,
   "metadata": {},
   "outputs": [],
   "source": [
    "\n",
    "\n",
    "subdomains = MeshFunction(\"size_t\", mesh,  mesh.topology().dim()-1)\n",
    "subdomains.set_all(mark[\"generic\"])\n",
    "wall.mark(subdomains, mark[\"wall\"])\n",
    "\n",
    "W = FunctionSpace(mesh, TH)\n",
    "bcu_wall = DirichletBC(W.sub(0), Constant((0.,0.,0.)), subdomains, mark[\"wall\"])\n",
    "dbcs = [bcu_wall]"
   ]
  },
  {
   "cell_type": "code",
   "execution_count": 4,
   "metadata": {},
   "outputs": [],
   "source": [
    "source = Expression('x[2]*x[2]*x[2]*x[2]*x[2]*x[2]*x[2]',degree=7)\n",
    "w_old = Function(W)\n",
    "(u1_o, u2_o) = split(w_old)\n",
    "scale = assemble((u2_o-source)*dx)"
   ]
  },
  {
   "cell_type": "code",
   "execution_count": 5,
   "metadata": {},
   "outputs": [],
   "source": [
    "# We define physical parameters\n",
    "\n",
    "nbitt = 10\n",
    "\n",
    "#T = 8.0\n",
    "#timestep = Constant(T/nbitt)\n",
    "#print(timestep.values()[0])\n",
    "timestep = Constant(0.01)\n",
    "\n",
    "noslip = Constant((0.,0.,0.))\n",
    "force = Expression(('0.','0.','7*x[2]*x[2]*x[2]*x[2]*x[2]*x[2]/scale'),degree=7,scale=scale)\n"
   ]
  },
  {
   "cell_type": "code",
   "execution_count": 6,
   "metadata": {},
   "outputs": [],
   "source": [
    "def solve_unsteady_navier_stokes(W, nu, bcs,forces, T, dt, theta):\n",
    "    \"\"\"Solver unsteady Navier-Stokes and write results\n",
    "    to file\"\"\"\n",
    "\n",
    "    # Current and old solution\n",
    "    w = Function(W)\n",
    "    u, p = split(w)\n",
    "\n",
    "    w_old = Function(W)\n",
    "    u_old, p_old = split(w_old)\n",
    "\n",
    "    # Define variational forms\n",
    "    v, q = TestFunctions(W)\n",
    "    F = ( Constant(1/dt)*dot(u - u_old, v)\n",
    "          + Constant(theta)*nu*inner(grad(u), grad(v))\n",
    "          + Constant(theta)*dot(dot(grad(u), u), v)\n",
    "          + Constant(1-theta)*nu*inner(grad(u), grad(v))\n",
    "          + Constant(1-theta)*dot(dot(grad(u_old), u_old), v)\n",
    "          - p*div(v)\n",
    "          - q*div(u) - dot(forces,v)\n",
    "        )*dx\n",
    "    J = derivative(F, w)\n",
    "\n",
    "    # Create solver\n",
    "    problem = NonlinearVariationalProblem(F, w, bcs, J)\n",
    "    solver = NonlinearVariationalSolver(problem)\n",
    "    solver.parameters['newton_solver']['linear_solver'] = 'mumps'\n",
    "\n",
    "\n",
    "    # Perform time-stepping\n",
    "    t = 0\n",
    "    while t < T:\n",
    "        w_old.vector()[:] = w.vector()\n",
    "        solver.solve()\n",
    "        t += dt\n",
    "        print(\"t = {:.3f}\".format(t))\n",
    "        print(\"Norm velocity {}\".format(norm(w.sub(0))))\n",
    "        print(\"Norm pressure {}\".format(norm(w.sub(1))))"
   ]
  },
  {
   "cell_type": "code",
   "execution_count": 7,
   "metadata": {},
   "outputs": [
    {
     "name": "stdout",
     "output_type": "stream",
     "text": [
      "Calling FFC just-in-time (JIT) compiler, this may take some time.\n",
      "  WARNING: The number of integration points for each cell will be: 125\n",
      "           Consider using the option 'quadrature_degree' to reduce the number of points\n",
      "Calling FFC just-in-time (JIT) compiler, this may take some time.\n",
      "t = 0.010\n",
      "Norm velocity 0.00028272226175132266\n",
      "Norm pressure 1.6098504172543537\n",
      "t = 0.020\n",
      "Norm velocity 0.000327426781447705\n",
      "Norm pressure 2.0966221803672376\n",
      "t = 0.030\n",
      "Norm velocity 0.0003360016541322341\n",
      "Norm pressure 2.01197618525427\n",
      "t = 0.040\n",
      "Norm velocity 0.00033791007618148947\n",
      "Norm pressure 1.923783643699095\n",
      "t = 0.050\n",
      "Norm velocity 0.00033840255588290114\n",
      "Norm pressure 2.0935388821300402\n",
      "t = 0.060\n",
      "Norm velocity 0.00033855266451319566\n",
      "Norm pressure 2.005538141450556\n",
      "t = 0.070\n",
      "Norm velocity 0.00033860774564017107\n",
      "Norm pressure 1.6702665967833015\n",
      "t = 0.080\n",
      "Norm velocity 0.00033863204689929256\n",
      "Norm pressure 3.198203712506719\n",
      "t = 0.090\n",
      "Norm velocity 0.00033864459121853553\n",
      "Norm pressure 3.1210434819104296\n",
      "t = 0.100\n",
      "Norm velocity 0.0003386518815043149\n",
      "Norm pressure 3.342414650511872\n",
      "t = 0.110\n",
      "Norm velocity 0.0003386564923956444\n",
      "Norm pressure 3.225563536744359\n"
     ]
    }
   ],
   "source": [
    "theta = 1/2\n",
    "dt = float(timestep)\n",
    "T = dt*nbitt\n",
    "solve_unsteady_navier_stokes(W, mu, dbcs,force, T, dt, theta)"
   ]
  },
  {
   "cell_type": "code",
   "execution_count": null,
   "metadata": {},
   "outputs": [],
   "source": []
  }
 ],
 "metadata": {
  "kernelspec": {
   "display_name": "Python 3",
   "language": "python",
   "name": "python3"
  },
  "language_info": {
   "codemirror_mode": {
    "name": "ipython",
    "version": 3
   },
   "file_extension": ".py",
   "mimetype": "text/x-python",
   "name": "python",
   "nbconvert_exporter": "python",
   "pygments_lexer": "ipython3",
   "version": "3.6.9"
  }
 },
 "nbformat": 4,
 "nbformat_minor": 4
}

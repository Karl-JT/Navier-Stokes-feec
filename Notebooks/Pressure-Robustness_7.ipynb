{
 "cells": [
  {
   "cell_type": "markdown",
   "metadata": {},
   "source": [
    "# Exact solution\n",
    "\n",
    "Ethier C.R., Steinman D.A., Exact fully 3d ?Nvier-Stokes solutions for banchmarking\n"
   ]
  },
  {
   "cell_type": "markdown",
   "metadata": {},
   "source": [
    "We test here for a stationary solution (d_const = 0). Any mesh should work."
   ]
  },
  {
   "cell_type": "code",
   "execution_count": 1,
   "metadata": {},
   "outputs": [],
   "source": [
    "from dolfin import *\n",
    "import numpy as np\n",
    "import mshr as mshr\n",
    "\n",
    "# Should stay 1 here (as we used normalized equation)\n",
    "mu = Constant(1.)\n",
    "muv = mu.values()[0]\n",
    "\n",
    "\n",
    "baseR = 1.\n",
    "topR = 1.5\n",
    "h = 2.\n",
    "\n",
    "outerCyl = mshr.Cylinder(Point([0.,0.,0.]),Point([0.,0.,h]),baseR,topR)"
   ]
  },
  {
   "cell_type": "code",
   "execution_count": 2,
   "metadata": {},
   "outputs": [],
   "source": [
    "# We mark physical boundary and setup the space of finite elements \n",
    "mark = {\"generic\": 0,\n",
    "        \"wall\": 1}\n",
    "\n",
    "class Bondary_w(SubDomain):\n",
    "    def inside(self, x, on_boundary):\n",
    "        return on_boundary \n",
    "\n",
    "wall = Bondary_w()\n",
    "\n",
    "#File(\"bord.pvd\") << subdomains\n",
    "\n",
    "degree = 2\n",
    "elemf0 = FiniteElement('P-', cell='tetrahedron',form_degree=0, degree=degree)\n",
    "elemf1 = FiniteElement('P-', cell='tetrahedron',form_degree=1, degree=degree)\n",
    "elemf2 = FiniteElement('P-', cell='tetrahedron',form_degree=2, degree=degree)\n",
    "elemf3 = FiniteElement('P-', cell='tetrahedron',form_degree=3, degree=degree)\n",
    "elemH = FiniteElement('Real',cell='tetrahedron',degree=0)\n",
    "\n",
    "TH = MixedElement([elemf1,elemf2,elemf3,elemH])"
   ]
  },
  {
   "cell_type": "code",
   "execution_count": 3,
   "metadata": {},
   "outputs": [],
   "source": [
    "mesh=mshr.generate_mesh(outerCyl,15)\n",
    "\n",
    "subdomains = MeshFunction(\"size_t\", mesh,  mesh.topology().dim()-1)\n",
    "subdomains.set_all(mark[\"generic\"])\n",
    "wall.mark(subdomains, mark[\"wall\"])\n",
    "\n",
    "W = FunctionSpace(mesh, TH)\n",
    "bcu_wall = DirichletBC(W.sub(1), Constant((0.,0.,0.)), subdomains, mark[\"wall\"])\n",
    "dbcs = [bcu_wall]"
   ]
  },
  {
   "cell_type": "code",
   "execution_count": 4,
   "metadata": {},
   "outputs": [
    {
     "name": "stdout",
     "output_type": "stream",
     "text": [
      "Calling FFC just-in-time (JIT) compiler, this may take some time.\n",
      "Calling FFC just-in-time (JIT) compiler, this may take some time.\n"
     ]
    }
   ],
   "source": [
    "source = Expression('x[2]*x[2]*x[2]*x[2]*x[2]*x[2]*x[2]',degree=7)\n",
    "w_old = Function(W)\n",
    "(u1_o, u2_o, u3_o, uh_o) = split(w_old)\n",
    "scale = assemble((u3_o-source)*dx)"
   ]
  },
  {
   "cell_type": "code",
   "execution_count": 5,
   "metadata": {},
   "outputs": [],
   "source": [
    "# We define physical parameters\n",
    "\n",
    "nbitt = 10\n",
    "\n",
    "#T = 8.0\n",
    "#timestep = Constant(T/nbitt)\n",
    "#print(timestep.values()[0])\n",
    "timestep = Constant(0.01)\n",
    "\n",
    "noslip = Constant((0.,0.,0.))\n",
    "force = Expression(('0.','0.','7*x[2]*x[2]*x[2]*x[2]*x[2]*x[2]/scale'),degree=7,scale=scale)\n"
   ]
  },
  {
   "cell_type": "code",
   "execution_count": 6,
   "metadata": {},
   "outputs": [],
   "source": [
    "# Define our function for the variationnal problem and our neumanBC (required TestFunctions to be already defined)\n",
    "(u1, u2, u3, uh) = TrialFunctions(W)\n",
    "(v1, v2, v3, vh) = TestFunctions(W)\n",
    "n = FacetNormal(mesh)\n",
    "\n",
    "# Variationnal formulation (except for u_t, a and L are multiplied by timestep below)\n",
    "a1 = dot(u1,v1)*dx - dot(u2,curl(v1))*dx\n",
    "a2 = mu*dot(curl(u1),v2)*dx + 0.5*dot(cross(u1,u2_o),v2)*dx + 0.5*dot(cross(u1_o,u2),v2)*dx - dot(u3,div(v2))*dx\n",
    "a3 = dot(div(u2),v3)*dx\n",
    "ah = u3*vh*dx + uh*v3*dx\n",
    "a = a1 + a2 + a3 + ah"
   ]
  },
  {
   "cell_type": "code",
   "execution_count": 7,
   "metadata": {},
   "outputs": [
    {
     "name": "stdout",
     "output_type": "stream",
     "text": [
      "85588\n",
      "t = 0.000\n",
      "Calling FFC just-in-time (JIT) compiler, this may take some time.\n",
      "  WARNING: The number of integration points for each cell will be: 125\n",
      "           Consider using the option 'quadrature_degree' to reduce the number of points\n",
      "Calling FFC just-in-time (JIT) compiler, this may take some time.\n",
      "Calling FFC just-in-time (JIT) compiler, this may take some time.\n",
      "Norm curl 1.4845971348082344e-15\n",
      "Norm velocity 8.733844684541822e-17\n",
      "Norm pressure 0.4871853896594921\n",
      "Norm harmonic pressure 8.419305348506379e-18\n",
      "t = 0.010\n",
      "Norm curl 1.588515309685295e-15\n",
      "Norm velocity 1.147112170156423e-16\n",
      "Norm pressure 0.48718538965949204\n",
      "Norm harmonic pressure 8.444321036373302e-19\n",
      "t = 0.020\n",
      "Norm curl 1.6043740348512565e-15\n",
      "Norm velocity 1.3896929979444833e-16\n",
      "Norm pressure 0.48718538965949176\n",
      "Norm harmonic pressure 6.939953634763208e-19\n",
      "t = 0.030\n",
      "Norm curl 1.7620953713834968e-15\n",
      "Norm velocity 1.2384537634579826e-16\n",
      "Norm pressure 0.4871853896594919\n",
      "Norm harmonic pressure 1.2003352201490743e-18\n",
      "t = 0.040\n",
      "Norm curl 1.5247111980726596e-15\n",
      "Norm velocity 9.622937988612201e-17\n",
      "Norm pressure 0.487185389659492\n",
      "Norm harmonic pressure 5.963510477600021e-18\n",
      "t = 0.050\n",
      "Norm curl 1.5769291492059795e-15\n",
      "Norm velocity 1.0003949941736208e-16\n",
      "Norm pressure 0.487185389659492\n",
      "Norm harmonic pressure 6.222216806679206e-18\n",
      "t = 0.060\n",
      "Norm curl 1.8623874886340317e-15\n",
      "Norm velocity 1.1610145081516438e-16\n",
      "Norm pressure 0.4871853896594919\n",
      "Norm harmonic pressure 7.560182654770802e-18\n",
      "t = 0.070\n",
      "Norm curl 2.0988788500097232e-15\n",
      "Norm velocity 1.340156669243596e-16\n",
      "Norm pressure 0.48718538965949154\n",
      "Norm harmonic pressure 3.080075311789109e-18\n",
      "t = 0.080\n",
      "Norm curl 1.5836338128360592e-15\n",
      "Norm velocity 9.363795084914986e-17\n",
      "Norm pressure 0.48718538965949193\n",
      "Norm harmonic pressure 3.083247936227341e-18\n",
      "t = 0.090\n",
      "Norm curl 1.640765557119926e-15\n",
      "Norm velocity 1.1427222539481842e-16\n",
      "Norm pressure 0.4871853896594915\n",
      "Norm harmonic pressure 5.76363583845274e-18\n"
     ]
    }
   ],
   "source": [
    "t = 0\n",
    "w1 = Function(W)\n",
    "print(W.dim())\n",
    "for i in range(nbitt):\n",
    "    print(\"t = {:.3f}\".format(t))\n",
    "\n",
    "    L = dot(force,v2)*dx \n",
    "    \n",
    "    Fa = timestep*a + dot(u2,v2)*dx \n",
    "    Fl = timestep*L + dot(w_old.sub(1),v2)*dx\n",
    "    problem = LinearVariationalProblem(Fa,Fl, w1, dbcs)\n",
    "    solver = LinearVariationalSolver(problem)\n",
    "    solver.parameters['linear_solver'] = \"mumps\"\n",
    "    \n",
    "    try:\n",
    "        solver.solve()\n",
    "    except RuntimeError:\n",
    "        print(\"Solver failed\")\n",
    "        break\n",
    "    \n",
    "    print(\"Norm curl {}\".format(norm(w1.sub(0))))\n",
    "    print(\"Norm velocity {}\".format(norm(w1.sub(1))))\n",
    "    print(\"Norm pressure {}\".format(norm(w1.sub(2))))\n",
    "    print(\"Norm harmonic pressure {}\".format(norm(w1.sub(3))))\n",
    "\n",
    "    w_old.assign(w1)\n",
    "    t = t + timestep.values()[0]\n"
   ]
  },
  {
   "cell_type": "code",
   "execution_count": null,
   "metadata": {},
   "outputs": [],
   "source": []
  }
 ],
 "metadata": {
  "kernelspec": {
   "display_name": "Python 3",
   "language": "python",
   "name": "python3"
  },
  "language_info": {
   "codemirror_mode": {
    "name": "ipython",
    "version": 3
   },
   "file_extension": ".py",
   "mimetype": "text/x-python",
   "name": "python",
   "nbconvert_exporter": "python",
   "pygments_lexer": "ipython3",
   "version": "3.6.9"
  }
 },
 "nbformat": 4,
 "nbformat_minor": 4
}
